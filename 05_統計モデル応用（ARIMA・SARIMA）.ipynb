{
 "cells": [
  {
   "cell_type": "markdown",
   "metadata": {},
   "source": [
    "# ARIMA\n",
    "\n",
    "自己回帰和分移動平均モデルと呼ばれる。\n",
    "\n",
    "ARMAとの違いは、差分過程（階差）を組み込んでいる点にあります。\n",
    "\n",
    "その為、ARIMAモデルは、差分を考慮する次数dを導入している。\n",
    "\n",
    "次数：p\n",
    "次数：q\n",
    "次数：d"
   ]
  },
  {
   "cell_type": "markdown",
   "metadata": {},
   "source": [
    "# SARIMA\n",
    "\n",
    "季節自己回帰和分移動平均モデルと呼ばれる。\n",
    "\n",
    "ARIMAとの違いは、季節性を考慮するか否かである。\n",
    "\n",
    "その為、SARIMAモデルは、周期性を考慮する次数sを導入している。\n",
    "\n",
    "**時系列方向の**\n",
    "\n",
    "次数：p\n",
    "次数：q\n",
    "次数：d\n",
    "\n",
    "**季節差分方向の**\n",
    "\n",
    "次数：p\n",
    "次数：q\n",
    "次数：d\n",
    "次数：s"
   ]
  },
  {
   "cell_type": "markdown",
   "metadata": {},
   "source": [
    "## データの読み込み\n",
    "\n",
    "今回使用するデータは、気温の時系列データです。\n",
    "\n",
    "データ配布元：http://www.data.jma.go.jp/gmd/risk/obsdl/index.php\n",
    "\n",
    "**まずは、理解を容易にするため、気温データのみを用います**"
   ]
  },
  {
   "cell_type": "code",
   "execution_count": 1,
   "metadata": {},
   "outputs": [],
   "source": [
    "import pandas as pd\n",
    "weather_df = pd.read_csv(\"./data/weather.csv\", encoding=\"shift-jis\")"
   ]
  },
  {
   "cell_type": "code",
   "execution_count": 2,
   "metadata": {},
   "outputs": [
    {
     "data": {
      "text/html": [
       "<div>\n",
       "<style scoped>\n",
       "    .dataframe tbody tr th:only-of-type {\n",
       "        vertical-align: middle;\n",
       "    }\n",
       "\n",
       "    .dataframe tbody tr th {\n",
       "        vertical-align: top;\n",
       "    }\n",
       "\n",
       "    .dataframe thead th {\n",
       "        text-align: right;\n",
       "    }\n",
       "</style>\n",
       "<table border=\"1\" class=\"dataframe\">\n",
       "  <thead>\n",
       "    <tr style=\"text-align: right;\">\n",
       "      <th></th>\n",
       "      <th>年月日</th>\n",
       "      <th>平均気温(℃)</th>\n",
       "      <th>降水量の合計(mm)</th>\n",
       "      <th>平均風速(m/s)</th>\n",
       "      <th>日照時間(時間)</th>\n",
       "      <th>平均現地気圧(hPa)</th>\n",
       "    </tr>\n",
       "  </thead>\n",
       "  <tbody>\n",
       "    <tr>\n",
       "      <th>0</th>\n",
       "      <td>2015/1/1</td>\n",
       "      <td>3.7</td>\n",
       "      <td>0.0</td>\n",
       "      <td>4.4</td>\n",
       "      <td>1.3</td>\n",
       "      <td>1000.4</td>\n",
       "    </tr>\n",
       "    <tr>\n",
       "      <th>1</th>\n",
       "      <td>2015/1/2</td>\n",
       "      <td>2.7</td>\n",
       "      <td>0.0</td>\n",
       "      <td>2.1</td>\n",
       "      <td>6.0</td>\n",
       "      <td>1007.4</td>\n",
       "    </tr>\n",
       "    <tr>\n",
       "      <th>2</th>\n",
       "      <td>2015/1/3</td>\n",
       "      <td>3.8</td>\n",
       "      <td>0.0</td>\n",
       "      <td>3.0</td>\n",
       "      <td>8.9</td>\n",
       "      <td>1012.0</td>\n",
       "    </tr>\n",
       "    <tr>\n",
       "      <th>3</th>\n",
       "      <td>2015/1/4</td>\n",
       "      <td>4.0</td>\n",
       "      <td>0.0</td>\n",
       "      <td>1.3</td>\n",
       "      <td>6.0</td>\n",
       "      <td>1010.4</td>\n",
       "    </tr>\n",
       "    <tr>\n",
       "      <th>4</th>\n",
       "      <td>2015/1/5</td>\n",
       "      <td>6.9</td>\n",
       "      <td>0.0</td>\n",
       "      <td>2.4</td>\n",
       "      <td>8.9</td>\n",
       "      <td>1014.6</td>\n",
       "    </tr>\n",
       "    <tr>\n",
       "      <th>...</th>\n",
       "      <td>...</td>\n",
       "      <td>...</td>\n",
       "      <td>...</td>\n",
       "      <td>...</td>\n",
       "      <td>...</td>\n",
       "      <td>...</td>\n",
       "    </tr>\n",
       "    <tr>\n",
       "      <th>1822</th>\n",
       "      <td>2019/12/28</td>\n",
       "      <td>6.8</td>\n",
       "      <td>0.0</td>\n",
       "      <td>3.5</td>\n",
       "      <td>8.8</td>\n",
       "      <td>1019.9</td>\n",
       "    </tr>\n",
       "    <tr>\n",
       "      <th>1823</th>\n",
       "      <td>2019/12/29</td>\n",
       "      <td>7.0</td>\n",
       "      <td>0.0</td>\n",
       "      <td>1.9</td>\n",
       "      <td>8.3</td>\n",
       "      <td>1026.5</td>\n",
       "    </tr>\n",
       "    <tr>\n",
       "      <th>1824</th>\n",
       "      <td>2019/12/30</td>\n",
       "      <td>6.7</td>\n",
       "      <td>0.5</td>\n",
       "      <td>1.8</td>\n",
       "      <td>0.0</td>\n",
       "      <td>1021.0</td>\n",
       "    </tr>\n",
       "    <tr>\n",
       "      <th>1825</th>\n",
       "      <td>2019/12/31</td>\n",
       "      <td>8.2</td>\n",
       "      <td>0.0</td>\n",
       "      <td>3.6</td>\n",
       "      <td>8.6</td>\n",
       "      <td>1009.1</td>\n",
       "    </tr>\n",
       "    <tr>\n",
       "      <th>1826</th>\n",
       "      <td>2020/1/1</td>\n",
       "      <td>5.5</td>\n",
       "      <td>0.0</td>\n",
       "      <td>2.6</td>\n",
       "      <td>7.4</td>\n",
       "      <td>1018.0</td>\n",
       "    </tr>\n",
       "  </tbody>\n",
       "</table>\n",
       "<p>1827 rows × 6 columns</p>\n",
       "</div>"
      ],
      "text/plain": [
       "             年月日  平均気温(℃)  降水量の合計(mm)  平均風速(m/s)  日照時間(時間)  平均現地気圧(hPa)\n",
       "0       2015/1/1      3.7         0.0        4.4       1.3       1000.4\n",
       "1       2015/1/2      2.7         0.0        2.1       6.0       1007.4\n",
       "2       2015/1/3      3.8         0.0        3.0       8.9       1012.0\n",
       "3       2015/1/4      4.0         0.0        1.3       6.0       1010.4\n",
       "4       2015/1/5      6.9         0.0        2.4       8.9       1014.6\n",
       "...          ...      ...         ...        ...       ...          ...\n",
       "1822  2019/12/28      6.8         0.0        3.5       8.8       1019.9\n",
       "1823  2019/12/29      7.0         0.0        1.9       8.3       1026.5\n",
       "1824  2019/12/30      6.7         0.5        1.8       0.0       1021.0\n",
       "1825  2019/12/31      8.2         0.0        3.6       8.6       1009.1\n",
       "1826    2020/1/1      5.5         0.0        2.6       7.4       1018.0\n",
       "\n",
       "[1827 rows x 6 columns]"
      ]
     },
     "execution_count": 2,
     "metadata": {},
     "output_type": "execute_result"
    }
   ],
   "source": [
    "weather_df"
   ]
  },
  {
   "cell_type": "code",
   "execution_count": 3,
   "metadata": {
    "scrolled": true
   },
   "outputs": [
    {
     "data": {
      "text/plain": [
       "[3.7,\n",
       " 4.9,\n",
       " 9.3,\n",
       " 13.9,\n",
       " 20.5,\n",
       " 25.7,\n",
       " 22.5,\n",
       " 29.1,\n",
       " 20.0,\n",
       " 23.3,\n",
       " 20.8,\n",
       " 9.9,\n",
       " 7.3,\n",
       " 3.8,\n",
       " 3.8,\n",
       " 8.0,\n",
       " 18.1,\n",
       " 22.2,\n",
       " 22.7,\n",
       " 23.9,\n",
       " 26.8,\n",
       " 19.4,\n",
       " 16.7,\n",
       " 12.6,\n",
       " 10.5,\n",
       " 3.0,\n",
       " 6.2,\n",
       " 9.1,\n",
       " 15.7,\n",
       " 22.1,\n",
       " 22.6,\n",
       " 26.5,\n",
       " 26.5,\n",
       " 19.0,\n",
       " 13.3,\n",
       " 11.6,\n",
       " 7.7,\n",
       " 4.2,\n",
       " 6.0,\n",
       " 13.2,\n",
       " 17.9,\n",
       " 22.3,\n",
       " 20.6,\n",
       " 30.1,\n",
       " 27.5,\n",
       " 21.0,\n",
       " 20.0,\n",
       " 16.3,\n",
       " 4.7,\n",
       " 2.0,\n",
       " 0.8,\n",
       " 12.3,\n",
       " 5.7,\n",
       " 20.6,\n",
       " 17.5,\n",
       " 19.7,\n",
       " 29.9,\n",
       " 28.4,\n",
       " 20.0,\n",
       " 14.3,\n",
       " 8.0]"
      ]
     },
     "execution_count": 3,
     "metadata": {},
     "output_type": "execute_result"
    }
   ],
   "source": [
    "# 30日ごとの気温を取得\n",
    "data=[]\n",
    "for index,i in enumerate(weather_df['平均気温(℃)'].values):\n",
    "    if index%30==0:\n",
    "        data.append(float(i))\n",
    "data"
   ]
  },
  {
   "cell_type": "markdown",
   "metadata": {},
   "source": [
    "## テストデータと訓練データの分割"
   ]
  },
  {
   "cell_type": "code",
   "execution_count": 4,
   "metadata": {},
   "outputs": [],
   "source": [
    "train=data[:int(len(data)*0.5)]\n",
    "test=data[int(len(data)*0.5):]"
   ]
  },
  {
   "cell_type": "markdown",
   "metadata": {},
   "source": [
    "## モデル作成\n",
    "\n",
    "ARIMAモデルを作成する"
   ]
  },
  {
   "cell_type": "code",
   "execution_count": 5,
   "metadata": {},
   "outputs": [],
   "source": [
    "from statsmodels.tsa.arima_model import ARIMA\n",
    "from statsmodels.tsa.statespace.sarimax import SARIMAX\n",
    "\n",
    "model_arima = ARIMA(\n",
    "    train,\n",
    "    order=[2, 2, 2],\n",
    ")\n",
    "\n",
    "model_sarima = SARIMAX(\n",
    "    train,\n",
    "    order=[2, 2, 2],\n",
    "    seasonal_order=(2,2,2,12)\n",
    ")"
   ]
  },
  {
   "cell_type": "markdown",
   "metadata": {},
   "source": [
    "## モデルの学習"
   ]
  },
  {
   "cell_type": "code",
   "execution_count": 19,
   "metadata": {},
   "outputs": [
    {
     "name": "stderr",
     "output_type": "stream",
     "text": [
      "c:\\python37\\lib\\site-packages\\statsmodels\\base\\model.py:568: ConvergenceWarning: Maximum Likelihood optimization failed to converge. Check mle_retvals\n",
      "  \"Check mle_retvals\", ConvergenceWarning)\n"
     ]
    }
   ],
   "source": [
    "result_arima = model_arima.fit()\n",
    "result_sarima = model_sarima.fit()"
   ]
  },
  {
   "cell_type": "markdown",
   "metadata": {},
   "source": [
    "## 予測値の算出"
   ]
  },
  {
   "cell_type": "code",
   "execution_count": 39,
   "metadata": {},
   "outputs": [],
   "source": [
    "prediction_arima = result_arima.predict(start=len(train),end=len(data))\n",
    "prediction_sarima = result_sarima.predict(start=len(train),end=len(data))"
   ]
  },
  {
   "cell_type": "markdown",
   "metadata": {},
   "source": [
    "## 予測値の可視化"
   ]
  },
  {
   "cell_type": "code",
   "execution_count": 10,
   "metadata": {},
   "outputs": [],
   "source": [
    "import matplotlib.pyplot as plt\n",
    "from matplotlib import rcParams\n",
    "# グラフの日本語設定\n",
    "rcParams['font.family'] = 'sans-serif'\n",
    "rcParams['font.sans-serif'] = ['Hiragino Maru Gothic Pro', 'Yu Gothic', 'Meirio', 'Takao', 'IPAexGothic', 'IPAPGothic', 'VL PGothic', 'Noto Sans CJK JP']\n",
    "plt.rcParams['figure.figsize'] = 20, 5"
   ]
  },
  {
   "cell_type": "code",
   "execution_count": 41,
   "metadata": {},
   "outputs": [
    {
     "data": {
      "image/png": "[encoded data removed]",
      "text/plain": [
       "<Figure size 1440x360 with 1 Axes>"
      ]
     },
     "metadata": {
      "needs_background": "light"
     },
     "output_type": "display_data"
    }
   ],
   "source": [
    "# ARIMA\n",
    "plt.plot(test,label=\"data_test\")\n",
    "plt.plot(prediction_arima,label=\"data_arma\")\n",
    "plt.legend()\n",
    "plt.show()"
   ]
  },
  {
   "cell_type": "code",
   "execution_count": 42,
   "metadata": {},
   "outputs": [
    {
     "data": {
      "image/png": "[encoded data removed]",
      "text/plain": [
       "<Figure size 1440x360 with 1 Axes>"
      ]
     },
     "metadata": {
      "needs_background": "light"
     },
     "output_type": "display_data"
    }
   ],
   "source": [
    "# SARIMA\n",
    "plt.plot(test,label=\"data_test\")\n",
    "plt.plot(prediction_sarima,label=\"data_arma\")\n",
    "plt.legend()\n",
    "plt.show()"
   ]
  },
  {
   "cell_type": "markdown",
   "metadata": {},
   "source": [
    "# パラメータ調整(ARIMA)\n",
    "\n",
    "ARIMAモデルが正常に予測できていないので、p,d,qを調整する"
   ]
  },
  {
   "cell_type": "code",
   "execution_count": 48,
   "metadata": {
    "scrolled": true
   },
   "outputs": [
    {
     "name": "stdout",
     "output_type": "stream",
     "text": [
      "4 0 1 163.7104486030899\n",
      "4 0 2 165.5190130586672\n",
      "4 1 1 172.0079541110255\n",
      "4 1 2 では収束しませんでした\n",
      "4 1 2 172.0079541110255\n",
      "4 2 1 182.21036587247312\n",
      "4 2 2 184.62416479234008\n",
      "5 0 1 165.6509493630347\n"
     ]
    },
    {
     "name": "stderr",
     "output_type": "stream",
     "text": [
      "c:\\python37\\lib\\site-packages\\statsmodels\\base\\model.py:548: HessianInversionWarning: Inverting hessian failed, no bse or cov_params available\n",
      "  'available', HessianInversionWarning)\n"
     ]
    },
    {
     "name": "stdout",
     "output_type": "stream",
     "text": [
      "5 0 2 167.18195075816706\n",
      "5 1 1 171.5978586293375\n"
     ]
    },
    {
     "name": "stderr",
     "output_type": "stream",
     "text": [
      "c:\\python37\\lib\\site-packages\\statsmodels\\base\\model.py:548: HessianInversionWarning: Inverting hessian failed, no bse or cov_params available\n",
      "  'available', HessianInversionWarning)\n",
      "c:\\python37\\lib\\site-packages\\statsmodels\\base\\model.py:568: ConvergenceWarning: Maximum Likelihood optimization failed to converge. Check mle_retvals\n",
      "  \"Check mle_retvals\", ConvergenceWarning)\n"
     ]
    },
    {
     "name": "stdout",
     "output_type": "stream",
     "text": [
      "5 1 2 169.18727284213838\n",
      "5 2 1 180.4691772286571\n"
     ]
    },
    {
     "name": "stderr",
     "output_type": "stream",
     "text": [
      "c:\\python37\\lib\\site-packages\\statsmodels\\base\\model.py:548: HessianInversionWarning: Inverting hessian failed, no bse or cov_params available\n",
      "  'available', HessianInversionWarning)\n",
      "c:\\python37\\lib\\site-packages\\statsmodels\\base\\model.py:568: ConvergenceWarning: Maximum Likelihood optimization failed to converge. Check mle_retvals\n",
      "  \"Check mle_retvals\", ConvergenceWarning)\n"
     ]
    },
    {
     "name": "stdout",
     "output_type": "stream",
     "text": [
      "5 2 2 176.35264269327467\n"
     ]
    },
    {
     "name": "stderr",
     "output_type": "stream",
     "text": [
      "c:\\python37\\lib\\site-packages\\statsmodels\\base\\model.py:568: ConvergenceWarning: Maximum Likelihood optimization failed to converge. Check mle_retvals\n",
      "  \"Check mle_retvals\", ConvergenceWarning)\n"
     ]
    },
    {
     "name": "stdout",
     "output_type": "stream",
     "text": [
      "6 0 1 167.53021377675486\n"
     ]
    },
    {
     "name": "stderr",
     "output_type": "stream",
     "text": [
      "c:\\python37\\lib\\site-packages\\statsmodels\\base\\model.py:548: HessianInversionWarning: Inverting hessian failed, no bse or cov_params available\n",
      "  'available', HessianInversionWarning)\n"
     ]
    },
    {
     "name": "stdout",
     "output_type": "stream",
     "text": [
      "6 0 2 168.91554351858008\n",
      "6 1 1 172.89398122770191\n"
     ]
    },
    {
     "name": "stderr",
     "output_type": "stream",
     "text": [
      "c:\\python37\\lib\\site-packages\\statsmodels\\base\\model.py:548: HessianInversionWarning: Inverting hessian failed, no bse or cov_params available\n",
      "  'available', HessianInversionWarning)\n"
     ]
    },
    {
     "name": "stdout",
     "output_type": "stream",
     "text": [
      "6 1 2 174.58936952526625\n",
      "6 2 1 180.0312880931138\n",
      "6 2 2 177.9387032434659\n"
     ]
    },
    {
     "name": "stderr",
     "output_type": "stream",
     "text": [
      "c:\\python37\\lib\\site-packages\\statsmodels\\base\\model.py:548: HessianInversionWarning: Inverting hessian failed, no bse or cov_params available\n",
      "  'available', HessianInversionWarning)\n",
      "c:\\python37\\lib\\site-packages\\statsmodels\\base\\model.py:568: ConvergenceWarning: Maximum Likelihood optimization failed to converge. Check mle_retvals\n",
      "  \"Check mle_retvals\", ConvergenceWarning)\n"
     ]
    }
   ],
   "source": [
    "for p in range(4,7):\n",
    "    for d in range(0,3):\n",
    "        for q in range(1,3):\n",
    "            model_arima = ARIMA(train,order=[p, d, q])\n",
    "            try:\n",
    "                result_arima = model_arima.fit()\n",
    "            except:\n",
    "                print(p,d,q,'では収束しませんでした')\n",
    "            reault_arima_aic = result_arima.aic\n",
    "            print(p,d,q,reault_arima_aic)"
   ]
  },
  {
   "cell_type": "code",
   "execution_count": 50,
   "metadata": {},
   "outputs": [],
   "source": [
    "# モデル構築\n",
    "model_arima = ARIMA(\n",
    "    train,\n",
    "    order=[4, 0, 1],\n",
    ")\n",
    "\n",
    "# モデル学習\n",
    "result_arima = model_arima.fit()\n",
    "\n",
    "# 予測値の算出\n",
    "prediction_arima = result_arima.predict(start=len(train),end=len(data))"
   ]
  },
  {
   "cell_type": "code",
   "execution_count": 51,
   "metadata": {},
   "outputs": [
    {
     "data": {
      "image/png": "[encoded data removed]",
      "text/plain": [
       "<Figure size 1440x360 with 1 Axes>"
      ]
     },
     "metadata": {
      "needs_background": "light"
     },
     "output_type": "display_data"
    }
   ],
   "source": [
    "# ARIMA\n",
    "plt.plot(test,label=\"data_test\")\n",
    "plt.plot(prediction_arima,label=\"data_arma\")\n",
    "plt.legend()\n",
    "plt.show()"
   ]
  },
  {
   "cell_type": "markdown",
   "metadata": {},
   "source": [
    "# パラメータ調整(SARIMA)\n",
    "\n",
    "SARIMAモデルが正常に予測できていないので、sp,sd,sqを調整する"
   ]
  },
  {
   "cell_type": "code",
   "execution_count": 27,
   "metadata": {
    "scrolled": true
   },
   "outputs": [
    {
     "name": "stdout",
     "output_type": "stream",
     "text": [
      "4 0 1 0 0 0 では収束しませんでした\n",
      "4 0 1 0 0 1 では収束しませんでした\n",
      "4 0 1 0 0 2 では収束しませんでした\n",
      "4 0 1 0 1 0 108.08371830797215\n",
      "4 0 1 0 1 1 では収束しませんでした\n",
      "4 0 1 0 1 2 では収束しませんでした\n",
      "4 0 1 0 2 0 918271.1829463876\n",
      "4 0 1 0 2 1 では収束しませんでした\n",
      "4 0 1 0 2 2 では収束しませんでした\n",
      "4 0 1 1 0 0 190.50207801781906\n",
      "4 0 1 1 0 1 では収束しませんでした\n",
      "4 0 1 1 0 2 では収束しませんでした\n",
      "4 0 1 1 1 0 110.07995433450675\n",
      "4 0 1 1 1 1 では収束しませんでした\n",
      "4 0 1 1 1 2 では収束しませんでした\n",
      "4 0 1 1 2 0 では収束しませんでした\n",
      "4 0 1 1 2 1 では収束しませんでした\n",
      "4 0 1 1 2 2 では収束しませんでした\n",
      "4 0 1 2 0 0 では収束しませんでした\n",
      "4 0 1 2 0 1 では収束しませんでした\n",
      "4 0 1 2 0 2 では収束しませんでした\n",
      "4 0 1 2 1 0 では収束しませんでした\n",
      "4 0 1 2 1 1 では収束しませんでした\n",
      "4 0 1 2 1 2 では収束しませんでした\n",
      "4 0 1 2 2 0 では収束しませんでした\n",
      "4 0 1 2 2 1 では収束しませんでした\n",
      "4 0 1 2 2 2 では収束しませんでした\n",
      "4 0 2 0 0 0 では収束しませんでした\n",
      "4 0 2 0 0 1 では収束しませんでした\n",
      "4 0 2 0 0 2 では収束しませんでした\n",
      "4 0 2 0 1 0 110.04320215864243\n",
      "4 0 2 0 1 1 では収束しませんでした\n",
      "4 0 2 0 1 2 では収束しませんでした\n",
      "4 0 2 0 2 0 では収束しませんでした\n",
      "4 0 2 0 2 1 では収束しませんでした\n",
      "4 0 2 0 2 2 では収束しませんでした\n",
      "4 0 2 1 0 0 では収束しませんでした\n",
      "4 0 2 1 0 1 では収束しませんでした\n",
      "4 0 2 1 0 2 では収束しませんでした\n",
      "4 0 2 1 1 0 112.04288536606438\n",
      "4 0 2 1 1 1 では収束しませんでした\n",
      "4 0 2 1 1 2 では収束しませんでした\n",
      "4 0 2 1 2 0 では収束しませんでした\n",
      "4 0 2 1 2 1 では収束しませんでした\n",
      "4 0 2 1 2 2 では収束しませんでした\n",
      "4 0 2 2 0 0 では収束しませんでした\n",
      "4 0 2 2 0 1 では収束しませんでした\n",
      "4 0 2 2 0 2 では収束しませんでした\n",
      "4 0 2 2 1 0 では収束しませんでした\n",
      "4 0 2 2 1 1 では収束しませんでした\n",
      "4 0 2 2 1 2 では収束しませんでした\n",
      "4 0 2 2 2 0 では収束しませんでした\n",
      "4 0 2 2 2 1 では収束しませんでした\n",
      "4 0 2 2 2 2 では収束しませんでした\n",
      "4 1 1 0 0 0 170.04419262204752\n",
      "4 1 1 0 0 1 では収束しませんでした\n",
      "4 1 1 0 0 2 では収束しませんでした\n",
      "4 1 1 0 1 0 106.05228084445332\n",
      "4 1 1 0 1 1 では収束しませんでした\n",
      "4 1 1 0 1 2 では収束しませんでした\n",
      "4 1 1 0 2 0 では収束しませんでした\n",
      "4 1 1 0 2 1 では収束しませんでした\n",
      "4 1 1 0 2 2 では収束しませんでした\n",
      "4 1 1 1 0 0 172.03827965615184\n",
      "4 1 1 1 0 1 では収束しませんでした\n",
      "4 1 1 1 0 2 では収束しませんでした\n",
      "4 1 1 1 1 0 では収束しませんでした\n",
      "4 1 1 1 1 1 では収束しませんでした\n",
      "4 1 1 1 1 2 では収束しませんでした\n",
      "4 1 1 1 2 0 では収束しませんでした\n",
      "4 1 1 1 2 1 では収束しませんでした\n",
      "4 1 1 1 2 2 では収束しませんでした\n",
      "4 1 1 2 0 0 では収束しませんでした\n",
      "4 1 1 2 0 1 では収束しませんでした\n",
      "4 1 1 2 0 2 では収束しませんでした\n",
      "4 1 1 2 1 0 では収束しませんでした\n",
      "4 1 1 2 1 1 では収束しませんでした\n",
      "4 1 1 2 1 2 では収束しませんでした\n",
      "4 1 1 2 2 0 では収束しませんでした\n",
      "4 1 1 2 2 1 では収束しませんでした\n",
      "4 1 1 2 2 2 では収束しませんでした\n",
      "4 1 2 0 0 0 では収束しませんでした\n",
      "4 1 2 0 0 1 では収束しませんでした\n",
      "4 1 2 0 0 2 では収束しませんでした\n",
      "4 1 2 0 1 0 では収束しませんでした\n",
      "4 1 2 0 1 1 では収束しませんでした\n",
      "4 1 2 0 1 2 では収束しませんでした\n",
      "4 1 2 0 2 0 では収束しませんでした\n",
      "4 1 2 0 2 1 では収束しませんでした\n",
      "4 1 2 0 2 2 では収束しませんでした\n",
      "4 1 2 1 0 0 では収束しませんでした\n",
      "4 1 2 1 0 1 では収束しませんでした\n",
      "4 1 2 1 0 2 では収束しませんでした\n",
      "4 1 2 1 1 0 では収束しませんでした\n",
      "4 1 2 1 1 1 では収束しませんでした\n",
      "4 1 2 1 1 2 では収束しませんでした\n",
      "4 1 2 1 2 0 では収束しませんでした\n",
      "4 1 2 1 2 1 では収束しませんでした\n",
      "4 1 2 1 2 2 では収束しませんでした\n",
      "4 1 2 2 0 0 では収束しませんでした\n",
      "4 1 2 2 0 1 では収束しませんでした\n",
      "4 1 2 2 0 2 では収束しませんでした\n",
      "4 1 2 2 1 0 では収束しませんでした\n",
      "4 1 2 2 1 1 では収束しませんでした\n",
      "4 1 2 2 1 2 では収束しませんでした\n",
      "4 1 2 2 2 0 では収束しませんでした\n",
      "4 1 2 2 2 1 では収束しませんでした\n",
      "4 1 2 2 2 2 では収束しませんでした\n",
      "4 2 1 0 0 0 180.2118592687453\n",
      "4 2 1 0 0 1 では収束しませんでした\n",
      "4 2 1 0 0 2 では収束しませんでした\n",
      "4 2 1 0 1 0 では収束しませんでした\n",
      "4 2 1 0 1 1 では収束しませんでした\n",
      "4 2 1 0 1 2 では収束しませんでした\n",
      "4 2 1 0 2 0 では収束しませんでした\n",
      "4 2 1 0 2 1 では収束しませんでした\n",
      "4 2 1 0 2 2 では収束しませんでした\n",
      "4 2 1 1 0 0 184.53198215996346\n",
      "4 2 1 1 0 1 では収束しませんでした\n",
      "4 2 1 1 0 2 では収束しませんでした\n",
      "4 2 1 1 1 0 では収束しませんでした\n",
      "4 2 1 1 1 1 では収束しませんでした\n",
      "4 2 1 1 1 2 では収束しませんでした\n",
      "4 2 1 1 2 0 では収束しませんでした\n",
      "4 2 1 1 2 1 では収束しませんでした\n",
      "4 2 1 1 2 2 では収束しませんでした\n",
      "4 2 1 2 0 0 では収束しませんでした\n",
      "4 2 1 2 0 1 では収束しませんでした\n",
      "4 2 1 2 0 2 では収束しませんでした\n",
      "4 2 1 2 1 0 では収束しませんでした\n",
      "4 2 1 2 1 1 では収束しませんでした\n",
      "4 2 1 2 1 2 では収束しませんでした\n",
      "4 2 1 2 2 0 では収束しませんでした\n",
      "4 2 1 2 2 1 では収束しませんでした\n",
      "4 2 1 2 2 2 では収束しませんでした\n",
      "4 2 2 0 0 0 では収束しませんでした\n",
      "4 2 2 0 0 1 では収束しませんでした\n",
      "4 2 2 0 0 2 では収束しませんでした\n",
      "4 2 2 0 1 0 では収束しませんでした\n",
      "4 2 2 0 1 1 では収束しませんでした\n",
      "4 2 2 0 1 2 では収束しませんでした\n",
      "4 2 2 0 2 0 では収束しませんでした\n",
      "4 2 2 0 2 1 では収束しませんでした\n",
      "4 2 2 0 2 2 では収束しませんでした\n",
      "4 2 2 1 0 0 では収束しませんでした\n",
      "4 2 2 1 0 1 では収束しませんでした\n",
      "4 2 2 1 0 2 では収束しませんでした\n",
      "4 2 2 1 1 0 では収束しませんでした\n",
      "4 2 2 1 1 1 では収束しませんでした\n",
      "4 2 2 1 1 2 では収束しませんでした\n",
      "4 2 2 1 2 0 では収束しませんでした\n",
      "4 2 2 1 2 1 では収束しませんでした\n",
      "4 2 2 1 2 2 では収束しませんでした\n",
      "4 2 2 2 0 0 では収束しませんでした\n",
      "4 2 2 2 0 1 では収束しませんでした\n",
      "4 2 2 2 0 2 では収束しませんでした\n",
      "4 2 2 2 1 0 では収束しませんでした\n",
      "4 2 2 2 1 1 では収束しませんでした\n",
      "4 2 2 2 1 2 では収束しませんでした\n",
      "4 2 2 2 2 0 では収束しませんでした\n",
      "4 2 2 2 2 1 では収束しませんでした\n",
      "4 2 2 2 2 2 では収束しませんでした\n",
      "5 0 1 0 0 0 では収束しませんでした\n",
      "5 0 1 0 0 1 では収束しませんでした\n",
      "5 0 1 0 0 2 では収束しませんでした\n",
      "5 0 1 0 1 0 109.91162311274464\n",
      "5 0 1 0 1 1 では収束しませんでした\n",
      "5 0 1 0 1 2 では収束しませんでした\n",
      "5 0 1 0 2 0 では収束しませんでした\n",
      "5 0 1 0 2 1 では収束しませんでした\n",
      "5 0 1 0 2 2 では収束しませんでした\n",
      "5 0 1 1 0 0 では収束しませんでした\n",
      "5 0 1 1 0 1 では収束しませんでした\n",
      "5 0 1 1 0 2 では収束しませんでした\n",
      "5 0 1 1 1 0 111.91005646295079\n",
      "5 0 1 1 1 1 では収束しませんでした\n",
      "5 0 1 1 1 2 では収束しませんでした\n",
      "5 0 1 1 2 0 では収束しませんでした\n",
      "5 0 1 1 2 1 では収束しませんでした\n",
      "5 0 1 1 2 2 では収束しませんでした\n",
      "5 0 1 2 0 0 では収束しませんでした\n",
      "5 0 1 2 0 1 では収束しませんでした\n",
      "5 0 1 2 0 2 では収束しませんでした\n",
      "5 0 1 2 1 0 では収束しませんでした\n",
      "5 0 1 2 1 1 では収束しませんでした\n",
      "5 0 1 2 1 2 では収束しませんでした\n",
      "5 0 1 2 2 0 では収束しませんでした\n",
      "5 0 1 2 2 1 では収束しませんでした\n",
      "5 0 1 2 2 2 では収束しませんでした\n",
      "5 0 2 0 0 0 では収束しませんでした\n",
      "5 0 2 0 0 1 では収束しませんでした\n",
      "5 0 2 0 0 2 では収束しませんでした\n",
      "5 0 2 0 1 0 では収束しませんでした\n",
      "5 0 2 0 1 1 では収束しませんでした\n",
      "5 0 2 0 1 2 では収束しませんでした\n",
      "5 0 2 0 2 0 では収束しませんでした\n",
      "5 0 2 0 2 1 では収束しませんでした\n",
      "5 0 2 0 2 2 では収束しませんでした\n",
      "5 0 2 1 0 0 では収束しませんでした\n",
      "5 0 2 1 0 1 では収束しませんでした\n",
      "5 0 2 1 0 2 では収束しませんでした\n",
      "5 0 2 1 1 0 112.12385104408273\n",
      "5 0 2 1 1 1 では収束しませんでした\n",
      "5 0 2 1 1 2 では収束しませんでした\n",
      "5 0 2 1 2 0 では収束しませんでした\n",
      "5 0 2 1 2 1 では収束しませんでした\n",
      "5 0 2 1 2 2 では収束しませんでした\n",
      "5 0 2 2 0 0 では収束しませんでした\n",
      "5 0 2 2 0 1 では収束しませんでした\n",
      "5 0 2 2 0 2 では収束しませんでした\n",
      "5 0 2 2 1 0 では収束しませんでした\n",
      "5 0 2 2 1 1 では収束しませんでした\n",
      "5 0 2 2 1 2 では収束しませんでした\n",
      "5 0 2 2 2 0 では収束しませんでした\n",
      "5 0 2 2 2 1 では収束しませんでした\n",
      "5 0 2 2 2 2 では収束しませんでした\n",
      "5 1 1 0 0 0 169.63411136446666\n",
      "5 1 1 0 0 1 では収束しませんでした\n",
      "5 1 1 0 0 2 では収束しませんでした\n",
      "5 1 1 0 1 0 107.54656055767298\n",
      "5 1 1 0 1 1 では収束しませんでした\n",
      "5 1 1 0 1 2 では収束しませんでした\n",
      "5 1 1 0 2 0 では収束しませんでした\n",
      "5 1 1 0 2 1 では収束しませんでした\n",
      "5 1 1 0 2 2 では収束しませんでした\n",
      "5 1 1 1 0 0 171.14759206890258\n",
      "5 1 1 1 0 1 では収束しませんでした\n",
      "5 1 1 1 0 2 では収束しませんでした\n",
      "5 1 1 1 1 0 107.63387164189905\n",
      "5 1 1 1 1 1 では収束しませんでした\n",
      "5 1 1 1 1 2 では収束しませんでした\n",
      "5 1 1 1 2 0 では収束しませんでした\n",
      "5 1 1 1 2 1 では収束しませんでした\n",
      "5 1 1 1 2 2 では収束しませんでした\n",
      "5 1 1 2 0 0 172.53061780716985\n",
      "5 1 1 2 0 1 では収束しませんでした\n",
      "5 1 1 2 0 2 では収束しませんでした\n",
      "5 1 1 2 1 0 では収束しませんでした\n",
      "5 1 1 2 1 1 では収束しませんでした\n",
      "5 1 1 2 1 2 では収束しませんでした\n",
      "5 1 1 2 2 0 では収束しませんでした\n",
      "5 1 1 2 2 1 では収束しませんでした\n",
      "5 1 1 2 2 2 では収束しませんでした\n",
      "5 1 2 0 0 0 では収束しませんでした\n",
      "5 1 2 0 0 1 では収束しませんでした\n",
      "5 1 2 0 0 2 では収束しませんでした\n",
      "5 1 2 0 1 0 では収束しませんでした\n",
      "5 1 2 0 1 1 では収束しませんでした\n",
      "5 1 2 0 1 2 では収束しませんでした\n",
      "5 1 2 0 2 0 では収束しませんでした\n",
      "5 1 2 0 2 1 では収束しませんでした\n",
      "5 1 2 0 2 2 では収束しませんでした\n",
      "5 1 2 1 0 0 では収束しませんでした\n",
      "5 1 2 1 0 1 では収束しませんでした\n",
      "5 1 2 1 0 2 では収束しませんでした\n",
      "5 1 2 1 1 0 では収束しませんでした\n",
      "5 1 2 1 1 1 では収束しませんでした\n",
      "5 1 2 1 1 2 では収束しませんでした\n",
      "5 1 2 1 2 0 では収束しませんでした\n",
      "5 1 2 1 2 1 では収束しませんでした\n",
      "5 1 2 1 2 2 では収束しませんでした\n",
      "5 1 2 2 0 0 では収束しませんでした\n",
      "5 1 2 2 0 1 では収束しませんでした\n",
      "5 1 2 2 0 2 では収束しませんでした\n",
      "5 1 2 2 1 0 では収束しませんでした\n",
      "5 1 2 2 1 1 では収束しませんでした\n",
      "5 1 2 2 1 2 では収束しませんでした\n",
      "5 1 2 2 2 0 では収束しませんでした\n",
      "5 1 2 2 2 1 では収束しませんでした\n",
      "5 1 2 2 2 2 では収束しませんでした\n",
      "5 2 1 0 0 0 178.4732308642247\n",
      "5 2 1 0 0 1 では収束しませんでした\n",
      "5 2 1 0 0 2 では収束しませんでした\n",
      "5 2 1 0 1 0 では収束しませんでした\n",
      "5 2 1 0 1 1 では収束しませんでした\n",
      "5 2 1 0 1 2 では収束しませんでした\n",
      "5 2 1 0 2 0 では収束しませんでした\n",
      "5 2 1 0 2 1 では収束しませんでした\n",
      "5 2 1 0 2 2 では収束しませんでした\n",
      "5 2 1 1 0 0 179.59569293311645\n",
      "5 2 1 1 0 1 では収束しませんでした\n",
      "5 2 1 1 0 2 では収束しませんでした\n",
      "5 2 1 1 1 0 では収束しませんでした\n",
      "5 2 1 1 1 1 では収束しませんでした\n",
      "5 2 1 1 1 2 では収束しませんでした\n",
      "5 2 1 1 2 0 では収束しませんでした\n",
      "5 2 1 1 2 1 では収束しませんでした\n",
      "5 2 1 1 2 2 では収束しませんでした\n",
      "5 2 1 2 0 0 では収束しませんでした\n",
      "5 2 1 2 0 1 では収束しませんでした\n",
      "5 2 1 2 0 2 では収束しませんでした\n",
      "5 2 1 2 1 0 では収束しませんでした\n",
      "5 2 1 2 1 1 では収束しませんでした\n",
      "5 2 1 2 1 2 では収束しませんでした\n",
      "5 2 1 2 2 0 では収束しませんでした\n",
      "5 2 1 2 2 1 では収束しませんでした\n",
      "5 2 1 2 2 2 では収束しませんでした\n",
      "5 2 2 0 0 0 では収束しませんでした\n",
      "5 2 2 0 0 1 では収束しませんでした\n",
      "5 2 2 0 0 2 では収束しませんでした\n",
      "5 2 2 0 1 0 では収束しませんでした\n",
      "5 2 2 0 1 1 では収束しませんでした\n",
      "5 2 2 0 1 2 では収束しませんでした\n",
      "5 2 2 0 2 0 では収束しませんでした\n",
      "5 2 2 0 2 1 では収束しませんでした\n",
      "5 2 2 0 2 2 では収束しませんでした\n",
      "5 2 2 1 0 0 では収束しませんでした\n",
      "5 2 2 1 0 1 では収束しませんでした\n",
      "5 2 2 1 0 2 では収束しませんでした\n",
      "5 2 2 1 1 0 では収束しませんでした\n",
      "5 2 2 1 1 1 では収束しませんでした\n",
      "5 2 2 1 1 2 では収束しませんでした\n",
      "5 2 2 1 2 0 では収束しませんでした\n",
      "5 2 2 1 2 1 では収束しませんでした\n",
      "5 2 2 1 2 2 では収束しませんでした\n",
      "5 2 2 2 0 0 では収束しませんでした\n",
      "5 2 2 2 0 1 では収束しませんでした\n",
      "5 2 2 2 0 2 では収束しませんでした\n",
      "5 2 2 2 1 0 では収束しませんでした\n",
      "5 2 2 2 1 1 では収束しませんでした\n",
      "5 2 2 2 1 2 では収束しませんでした\n",
      "5 2 2 2 2 0 では収束しませんでした\n",
      "5 2 2 2 2 1 では収束しませんでした\n",
      "5 2 2 2 2 2 では収束しませんでした\n",
      "6 0 1 0 0 0 では収束しませんでした\n",
      "6 0 1 0 0 1 では収束しませんでした\n",
      "6 0 1 0 0 2 では収束しませんでした\n",
      "6 0 1 0 1 0 111.86353674731015\n",
      "6 0 1 0 1 1 では収束しませんでした\n",
      "6 0 1 0 1 2 では収束しませんでした\n",
      "6 0 1 0 2 0 では収束しませんでした\n",
      "6 0 1 0 2 1 では収束しませんでした\n",
      "6 0 1 0 2 2 では収束しませんでした\n",
      "6 0 1 1 0 0 では収束しませんでした\n",
      "6 0 1 1 0 1 では収束しませんでした\n",
      "6 0 1 1 0 2 では収束しませんでした\n"
     ]
    },
    {
     "name": "stdout",
     "output_type": "stream",
     "text": [
      "6 0 1 1 1 0 113.86349063742996\n",
      "6 0 1 1 1 1 では収束しませんでした\n",
      "6 0 1 1 1 2 では収束しませんでした\n",
      "6 0 1 1 2 0 では収束しませんでした\n",
      "6 0 1 1 2 1 では収束しませんでした\n",
      "6 0 1 1 2 2 では収束しませんでした\n",
      "6 0 1 2 0 0 では収束しませんでした\n",
      "6 0 1 2 0 1 では収束しませんでした\n",
      "6 0 1 2 0 2 では収束しませんでした\n",
      "6 0 1 2 1 0 では収束しませんでした\n",
      "6 0 1 2 1 1 では収束しませんでした\n",
      "6 0 1 2 1 2 では収束しませんでした\n",
      "6 0 1 2 2 0 では収束しませんでした\n",
      "6 0 1 2 2 1 では収束しませんでした\n",
      "6 0 1 2 2 2 では収束しませんでした\n",
      "6 0 2 0 0 0 では収束しませんでした\n",
      "6 0 2 0 0 1 では収束しませんでした\n",
      "6 0 2 0 0 2 では収束しませんでした\n",
      "6 0 2 0 1 0 113.79194971263867\n",
      "6 0 2 0 1 1 では収束しませんでした\n",
      "6 0 2 0 1 2 では収束しませんでした\n",
      "6 0 2 0 2 0 では収束しませんでした\n",
      "6 0 2 0 2 1 では収束しませんでした\n",
      "6 0 2 0 2 2 では収束しませんでした\n",
      "6 0 2 1 0 0 では収束しませんでした\n",
      "6 0 2 1 0 1 では収束しませんでした\n",
      "6 0 2 1 0 2 では収束しませんでした\n",
      "6 0 2 1 1 0 では収束しませんでした\n",
      "6 0 2 1 1 1 では収束しませんでした\n",
      "6 0 2 1 1 2 では収束しませんでした\n",
      "6 0 2 1 2 0 では収束しませんでした\n",
      "6 0 2 1 2 1 では収束しませんでした\n",
      "6 0 2 1 2 2 では収束しませんでした\n",
      "6 0 2 2 0 0 では収束しませんでした\n",
      "6 0 2 2 0 1 では収束しませんでした\n",
      "6 0 2 2 0 2 では収束しませんでした\n",
      "6 0 2 2 1 0 では収束しませんでした\n",
      "6 0 2 2 1 1 では収束しませんでした\n",
      "6 0 2 2 1 2 では収束しませんでした\n",
      "6 0 2 2 2 0 では収束しませんでした\n",
      "6 0 2 2 2 1 では収束しませんでした\n",
      "6 0 2 2 2 2 では収束しませんでした\n",
      "6 1 1 0 0 0 170.91276674432663\n",
      "6 1 1 0 0 1 では収束しませんでした\n",
      "6 1 1 0 0 2 では収束しませんでした\n",
      "6 1 1 0 1 0 109.5267867544762\n",
      "6 1 1 0 1 1 では収束しませんでした\n",
      "6 1 1 0 1 2 では収束しませんでした\n",
      "6 1 1 0 2 0 では収束しませんでした\n",
      "6 1 1 0 2 1 では収束しませんでした\n",
      "6 1 1 0 2 2 では収束しませんでした\n",
      "6 1 1 1 0 0 172.58168448798784\n",
      "6 1 1 1 0 1 では収束しませんでした\n",
      "6 1 1 1 0 2 では収束しませんでした\n",
      "6 1 1 1 1 0 109.08293604809809\n",
      "6 1 1 1 1 1 では収束しませんでした\n",
      "6 1 1 1 1 2 では収束しませんでした\n",
      "6 1 1 1 2 0 では収束しませんでした\n",
      "6 1 1 1 2 1 では収束しませんでした\n",
      "6 1 1 1 2 2 では収束しませんでした\n",
      "6 1 1 2 0 0 では収束しませんでした\n",
      "6 1 1 2 0 1 では収束しませんでした\n",
      "6 1 1 2 0 2 では収束しませんでした\n",
      "6 1 1 2 1 0 では収束しませんでした\n",
      "6 1 1 2 1 1 では収束しませんでした\n",
      "6 1 1 2 1 2 では収束しませんでした\n",
      "6 1 1 2 2 0 では収束しませんでした\n",
      "6 1 1 2 2 1 では収束しませんでした\n",
      "6 1 1 2 2 2 では収束しませんでした\n",
      "6 1 2 0 0 0 では収束しませんでした\n",
      "6 1 2 0 0 1 では収束しませんでした\n",
      "6 1 2 0 0 2 では収束しませんでした\n",
      "6 1 2 0 1 0 では収束しませんでした\n",
      "6 1 2 0 1 1 では収束しませんでした\n",
      "6 1 2 0 1 2 では収束しませんでした\n",
      "6 1 2 0 2 0 では収束しませんでした\n",
      "6 1 2 0 2 1 では収束しませんでした\n",
      "6 1 2 0 2 2 では収束しませんでした\n",
      "6 1 2 1 0 0 では収束しませんでした\n",
      "6 1 2 1 0 1 では収束しませんでした\n",
      "6 1 2 1 0 2 では収束しませんでした\n",
      "6 1 2 1 1 0 では収束しませんでした\n",
      "6 1 2 1 1 1 では収束しませんでした\n",
      "6 1 2 1 1 2 では収束しませんでした\n",
      "6 1 2 1 2 0 では収束しませんでした\n",
      "6 1 2 1 2 1 では収束しませんでした\n",
      "6 1 2 1 2 2 では収束しませんでした\n",
      "6 1 2 2 0 0 では収束しませんでした\n",
      "6 1 2 2 0 1 では収束しませんでした\n",
      "6 1 2 2 0 2 では収束しませんでした\n",
      "6 1 2 2 1 0 では収束しませんでした\n",
      "6 1 2 2 1 1 では収束しませんでした\n",
      "6 1 2 2 1 2 では収束しませんでした\n",
      "6 1 2 2 2 0 では収束しませんでした\n",
      "6 1 2 2 2 1 では収束しませんでした\n",
      "6 1 2 2 2 2 では収束しませんでした\n",
      "6 2 1 0 0 0 178.03435545558034\n",
      "6 2 1 0 0 1 では収束しませんでした\n",
      "6 2 1 0 0 2 では収束しませんでした\n",
      "6 2 1 0 1 0 では収束しませんでした\n",
      "6 2 1 0 1 1 では収束しませんでした\n",
      "6 2 1 0 1 2 では収束しませんでした\n",
      "6 2 1 0 2 0 では収束しませんでした\n",
      "6 2 1 0 2 1 では収束しませんでした\n",
      "6 2 1 0 2 2 では収束しませんでした\n",
      "6 2 1 1 0 0 179.23121474540403\n",
      "6 2 1 1 0 1 では収束しませんでした\n",
      "6 2 1 1 0 2 では収束しませんでした\n",
      "6 2 1 1 1 0 では収束しませんでした\n",
      "6 2 1 1 1 1 では収束しませんでした\n",
      "6 2 1 1 1 2 では収束しませんでした\n",
      "6 2 1 1 2 0 では収束しませんでした\n",
      "6 2 1 1 2 1 では収束しませんでした\n",
      "6 2 1 1 2 2 では収束しませんでした\n",
      "6 2 1 2 0 0 では収束しませんでした\n",
      "6 2 1 2 0 1 では収束しませんでした\n",
      "6 2 1 2 0 2 では収束しませんでした\n",
      "6 2 1 2 1 0 では収束しませんでした\n",
      "6 2 1 2 1 1 では収束しませんでした\n",
      "6 2 1 2 1 2 では収束しませんでした\n",
      "6 2 1 2 2 0 では収束しませんでした\n",
      "6 2 1 2 2 1 では収束しませんでした\n",
      "6 2 1 2 2 2 では収束しませんでした\n",
      "6 2 2 0 0 0 では収束しませんでした\n",
      "6 2 2 0 0 1 では収束しませんでした\n",
      "6 2 2 0 0 2 では収束しませんでした\n",
      "6 2 2 0 1 0 112.0116096751598\n",
      "6 2 2 0 1 1 では収束しませんでした\n",
      "6 2 2 0 1 2 では収束しませんでした\n",
      "6 2 2 0 2 0 では収束しませんでした\n",
      "6 2 2 0 2 1 では収束しませんでした\n",
      "6 2 2 0 2 2 では収束しませんでした\n",
      "6 2 2 1 0 0 では収束しませんでした\n",
      "6 2 2 1 0 1 では収束しませんでした\n",
      "6 2 2 1 0 2 では収束しませんでした\n",
      "6 2 2 1 1 0 では収束しませんでした\n",
      "6 2 2 1 1 1 では収束しませんでした\n",
      "6 2 2 1 1 2 では収束しませんでした\n",
      "6 2 2 1 2 0 では収束しませんでした\n",
      "6 2 2 1 2 1 では収束しませんでした\n",
      "6 2 2 1 2 2 では収束しませんでした\n",
      "6 2 2 2 0 0 では収束しませんでした\n",
      "6 2 2 2 0 1 では収束しませんでした\n",
      "6 2 2 2 0 2 では収束しませんでした\n",
      "6 2 2 2 1 0 では収束しませんでした\n",
      "6 2 2 2 1 1 では収束しませんでした\n",
      "6 2 2 2 1 2 では収束しませんでした\n",
      "6 2 2 2 2 0 では収束しませんでした\n",
      "6 2 2 2 2 1 では収束しませんでした\n",
      "6 2 2 2 2 2 では収束しませんでした\n"
     ]
    }
   ],
   "source": [
    "import warnings\n",
    "warnings.resetwarnings()\n",
    "warnings.simplefilter('error')\n",
    "\n",
    "min_aic=999999999\n",
    "min_pdq=[]\n",
    "\n",
    "for p in range(4,7):\n",
    "    for d in range(0,3):\n",
    "        for q in range(1,3):\n",
    "            for sp in range(3):\n",
    "                for sd in range(3):\n",
    "                    for sq in range(3):\n",
    "                        model_sarima = SARIMAX(train,order=[p, d, q],seasonal_order=[sp,sd,sq,12])\n",
    "                        try:\n",
    "                            result_sarima = model_sarima.fit(ic='aic')\n",
    "                        except:\n",
    "                            print(p,d,q,sp,sd,sq,'では収束しませんでした')\n",
    "                            continue\n",
    "                        reault_sarima_aic = result_sarima.aic\n",
    "                        print(p,d,q,sp,sd,sq,reault_sarima_aic)\n",
    "                        if reault_sarima_aic < min_aic:\n",
    "                            min_aic = reault_sarima_aic\n",
    "                            min_pdq = [p,d,q,sp,sd,sq]"
   ]
  },
  {
   "cell_type": "code",
   "execution_count": 28,
   "metadata": {},
   "outputs": [
    {
     "data": {
      "text/plain": [
       "[4, 1, 1, 0, 1, 0]"
      ]
     },
     "execution_count": 28,
     "metadata": {},
     "output_type": "execute_result"
    }
   ],
   "source": [
    "min_pdq"
   ]
  },
  {
   "cell_type": "code",
   "execution_count": 29,
   "metadata": {},
   "outputs": [],
   "source": [
    "# モデル構築\n",
    "model_sarima = SARIMAX(\n",
    "    train,\n",
    "    order=[4, 1, 1],\n",
    "    seasonal_order=[0,1,0,12]\n",
    ")\n",
    "\n",
    "# モデル学習\n",
    "result_sarima = model_sarima.fit()\n",
    "\n",
    "# 予測値の算出\n",
    "prediction_sarima = result_sarima.predict(start=len(train),end=len(data))"
   ]
  },
  {
   "cell_type": "code",
   "execution_count": 30,
   "metadata": {
    "scrolled": true
   },
   "outputs": [
    {
     "data": {
      "image/png": "[encoded data removed]",
      "text/plain": [
       "<Figure size 1440x360 with 1 Axes>"
      ]
     },
     "metadata": {
      "needs_background": "light"
     },
     "output_type": "display_data"
    }
   ],
   "source": [
    "# ARIMA\n",
    "plt.plot(test,label=\"data_test\")\n",
    "plt.plot(prediction_sarima,label=\"data_arma\")\n",
    "plt.legend()\n",
    "plt.show()"
   ]
  }
 ],
 "metadata": {
  "kernelspec": {
   "display_name": "Python 3",
   "language": "python",
   "name": "python3"
  },
  "language_info": {
   "codemirror_mode": {
    "name": "ipython",
    "version": 3
   },
   "file_extension": ".py",
   "mimetype": "text/x-python",
   "name": "python",
   "nbconvert_exporter": "python",
   "pygments_lexer": "ipython3",
   "version": "3.7.1"
  }
 },
 "nbformat": 4,
 "nbformat_minor": 4
}
