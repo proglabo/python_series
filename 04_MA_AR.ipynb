{
 "cells": [
  {
   "cell_type": "markdown",
   "metadata": {},
   "source": [
    "# MAモデル\n",
    "\n",
    "移動平均モデルと呼ばれ、「将来のYは過去の誤差によって説明される」という考え方に基づいたアルゴリズムである。\n",
    "\n",
    "言い換えると、「将来の予測値は、過去の予測値と実績値との誤差により決まる」であるが、\n",
    "\n",
    "例えば、今月の売上量が、本来売上げる量より多かったら、来月は売上量が減る\n",
    "\n",
    "次数：q"
   ]
  },
  {
   "cell_type": "markdown",
   "metadata": {},
   "source": [
    "# ARモデル\n",
    "\n",
    "自己回帰モデルと呼ばれ、「将来のYは、過去のYによって説明される」という考え方に基づいたアルゴリズムである。\n",
    "\n",
    "言い換えると、「将来の予測値は、過去の予測値により決まる」であるが、\n",
    "\n",
    "例えば、今月の売上量が多かったら、来月は売上量が増える\n",
    "\n",
    "次数：p"
   ]
  },
  {
   "cell_type": "markdown",
   "metadata": {},
   "source": [
    "# ARMA\n",
    "\n",
    "自己回帰移動平均モデルと呼ばれ、MAモデルとARモデルを組み合わせたモデルである。\n",
    "\n",
    "次数：p\n",
    "次数：q"
   ]
  },
  {
   "cell_type": "markdown",
   "metadata": {},
   "source": [
    "## データの読み込み\n",
    "\n",
    "今回使用するデータは、気温の時系列データです。\n",
    "\n",
    "データ配布元：http://www.data.jma.go.jp/gmd/risk/obsdl/index.php\n",
    "\n",
    "**まずは、理解を容易にするため、気温データのみを用います**"
   ]
  },
  {
   "cell_type": "code",
   "execution_count": 2,
   "metadata": {},
   "outputs": [],
   "source": [
    "import pandas as pd\n",
    "weather_df = pd.read_csv(\"./data/weather.csv\", index_col='年月日', encoding=\"shift-jis\")"
   ]
  },
  {
   "cell_type": "code",
   "execution_count": 3,
   "metadata": {},
   "outputs": [
    {
     "data": {
      "text/html": [
       "<div>\n",
       "<style scoped>\n",
       "    .dataframe tbody tr th:only-of-type {\n",
       "        vertical-align: middle;\n",
       "    }\n",
       "\n",
       "    .dataframe tbody tr th {\n",
       "        vertical-align: top;\n",
       "    }\n",
       "\n",
       "    .dataframe thead th {\n",
       "        text-align: right;\n",
       "    }\n",
       "</style>\n",
       "<table border=\"1\" class=\"dataframe\">\n",
       "  <thead>\n",
       "    <tr style=\"text-align: right;\">\n",
       "      <th></th>\n",
       "      <th>平均気温(℃)</th>\n",
       "      <th>降水量の合計(mm)</th>\n",
       "      <th>平均風速(m/s)</th>\n",
       "      <th>日照時間(時間)</th>\n",
       "      <th>平均現地気圧(hPa)</th>\n",
       "    </tr>\n",
       "    <tr>\n",
       "      <th>年月日</th>\n",
       "      <th></th>\n",
       "      <th></th>\n",
       "      <th></th>\n",
       "      <th></th>\n",
       "      <th></th>\n",
       "    </tr>\n",
       "  </thead>\n",
       "  <tbody>\n",
       "    <tr>\n",
       "      <th>2015/1/1</th>\n",
       "      <td>3.7</td>\n",
       "      <td>0.0</td>\n",
       "      <td>4.4</td>\n",
       "      <td>1.3</td>\n",
       "      <td>1000.4</td>\n",
       "    </tr>\n",
       "    <tr>\n",
       "      <th>2015/1/2</th>\n",
       "      <td>2.7</td>\n",
       "      <td>0.0</td>\n",
       "      <td>2.1</td>\n",
       "      <td>6.0</td>\n",
       "      <td>1007.4</td>\n",
       "    </tr>\n",
       "    <tr>\n",
       "      <th>2015/1/3</th>\n",
       "      <td>3.8</td>\n",
       "      <td>0.0</td>\n",
       "      <td>3.0</td>\n",
       "      <td>8.9</td>\n",
       "      <td>1012.0</td>\n",
       "    </tr>\n",
       "    <tr>\n",
       "      <th>2015/1/4</th>\n",
       "      <td>4.0</td>\n",
       "      <td>0.0</td>\n",
       "      <td>1.3</td>\n",
       "      <td>6.0</td>\n",
       "      <td>1010.4</td>\n",
       "    </tr>\n",
       "    <tr>\n",
       "      <th>2015/1/5</th>\n",
       "      <td>6.9</td>\n",
       "      <td>0.0</td>\n",
       "      <td>2.4</td>\n",
       "      <td>8.9</td>\n",
       "      <td>1014.6</td>\n",
       "    </tr>\n",
       "    <tr>\n",
       "      <th>...</th>\n",
       "      <td>...</td>\n",
       "      <td>...</td>\n",
       "      <td>...</td>\n",
       "      <td>...</td>\n",
       "      <td>...</td>\n",
       "    </tr>\n",
       "    <tr>\n",
       "      <th>2019/12/28</th>\n",
       "      <td>6.8</td>\n",
       "      <td>0.0</td>\n",
       "      <td>3.5</td>\n",
       "      <td>8.8</td>\n",
       "      <td>1019.9</td>\n",
       "    </tr>\n",
       "    <tr>\n",
       "      <th>2019/12/29</th>\n",
       "      <td>7.0</td>\n",
       "      <td>0.0</td>\n",
       "      <td>1.9</td>\n",
       "      <td>8.3</td>\n",
       "      <td>1026.5</td>\n",
       "    </tr>\n",
       "    <tr>\n",
       "      <th>2019/12/30</th>\n",
       "      <td>6.7</td>\n",
       "      <td>0.5</td>\n",
       "      <td>1.8</td>\n",
       "      <td>0.0</td>\n",
       "      <td>1021.0</td>\n",
       "    </tr>\n",
       "    <tr>\n",
       "      <th>2019/12/31</th>\n",
       "      <td>8.2</td>\n",
       "      <td>0.0</td>\n",
       "      <td>3.6</td>\n",
       "      <td>8.6</td>\n",
       "      <td>1009.1</td>\n",
       "    </tr>\n",
       "    <tr>\n",
       "      <th>2020/1/1</th>\n",
       "      <td>5.5</td>\n",
       "      <td>0.0</td>\n",
       "      <td>2.6</td>\n",
       "      <td>7.4</td>\n",
       "      <td>1018.0</td>\n",
       "    </tr>\n",
       "  </tbody>\n",
       "</table>\n",
       "<p>1827 rows × 5 columns</p>\n",
       "</div>"
      ],
      "text/plain": [
       "            平均気温(℃)  降水量の合計(mm)  平均風速(m/s)  日照時間(時間)  平均現地気圧(hPa)\n",
       "年月日                                                              \n",
       "2015/1/1        3.7         0.0        4.4       1.3       1000.4\n",
       "2015/1/2        2.7         0.0        2.1       6.0       1007.4\n",
       "2015/1/3        3.8         0.0        3.0       8.9       1012.0\n",
       "2015/1/4        4.0         0.0        1.3       6.0       1010.4\n",
       "2015/1/5        6.9         0.0        2.4       8.9       1014.6\n",
       "...             ...         ...        ...       ...          ...\n",
       "2019/12/28      6.8         0.0        3.5       8.8       1019.9\n",
       "2019/12/29      7.0         0.0        1.9       8.3       1026.5\n",
       "2019/12/30      6.7         0.5        1.8       0.0       1021.0\n",
       "2019/12/31      8.2         0.0        3.6       8.6       1009.1\n",
       "2020/1/1        5.5         0.0        2.6       7.4       1018.0\n",
       "\n",
       "[1827 rows x 5 columns]"
      ]
     },
     "execution_count": 3,
     "metadata": {},
     "output_type": "execute_result"
    }
   ],
   "source": [
    "weather_df "
   ]
  },
  {
   "cell_type": "markdown",
   "metadata": {},
   "source": [
    "## モデル作成\n",
    "\n",
    "MA/AR/ARMAモデルをそれぞれ作成する"
   ]
  },
  {
   "cell_type": "code",
   "execution_count": 6,
   "metadata": {},
   "outputs": [
    {
     "name": "stderr",
     "output_type": "stream",
     "text": [
      "c:\\python37\\lib\\site-packages\\statsmodels\\tsa\\base\\tsa_model.py:162: ValueWarning: No frequency information was provided, so inferred frequency D will be used.\n",
      "  % freq, ValueWarning)\n",
      "c:\\python37\\lib\\site-packages\\statsmodels\\tsa\\base\\tsa_model.py:162: ValueWarning: No frequency information was provided, so inferred frequency D will be used.\n",
      "  % freq, ValueWarning)\n",
      "c:\\python37\\lib\\site-packages\\statsmodels\\tsa\\base\\tsa_model.py:162: ValueWarning: No frequency information was provided, so inferred frequency D will be used.\n",
      "  % freq, ValueWarning)\n"
     ]
    }
   ],
   "source": [
    "from statsmodels.tsa.arima_model import ARMA\n",
    "model_ma = ARMA(weather_df['平均気温(℃)'], order=[0, 1])\n",
    "model_ar = ARMA(weather_df['平均気温(℃)'], order=[1, 0])\n",
    "model_arma = ARMA(weather_df['平均気温(℃)'], order=[1, 1])"
   ]
  },
  {
   "cell_type": "markdown",
   "metadata": {},
   "source": [
    "## モデルの学習"
   ]
  },
  {
   "cell_type": "code",
   "execution_count": 7,
   "metadata": {},
   "outputs": [
    {
     "data": {
      "text/plain": [
       "<statsmodels.tsa.arima_model.ARMAResultsWrapper at 0x1f1ba394e48>"
      ]
     },
     "execution_count": 7,
     "metadata": {},
     "output_type": "execute_result"
    }
   ],
   "source": [
    "model_ma.fit()\n",
    "model_ar.fit()\n",
    "model_arma.fit()"
   ]
  },
  {
   "cell_type": "markdown",
   "metadata": {},
   "source": [
    "# 予測値の算出"
   ]
  },
  {
   "cell_type": "code",
   "execution_count": 8,
   "metadata": {},
   "outputs": [
    {
     "ename": "NameError",
     "evalue": "name 'result_ar' is not defined",
     "output_type": "error",
     "traceback": [
      "\u001b[1;31m---------------------------------------------------------------------------\u001b[0m",
      "\u001b[1;31mNameError\u001b[0m                                 Traceback (most recent call last)",
      "\u001b[1;32m<ipython-input-8-8f5fdf71bf00>\u001b[0m in \u001b[0;36m<module>\u001b[1;34m\u001b[0m\n\u001b[1;32m----> 1\u001b[1;33m \u001b[0mprediction_ma\u001b[0m \u001b[1;33m=\u001b[0m \u001b[0mresult_ar\u001b[0m\u001b[1;33m.\u001b[0m\u001b[0mpredict\u001b[0m\u001b[1;33m(\u001b[0m\u001b[0mtrain_len\u001b[0m\u001b[1;33m,\u001b[0m \u001b[0mts\u001b[0m\u001b[1;33m.\u001b[0m\u001b[0mshape\u001b[0m\u001b[1;33m[\u001b[0m\u001b[1;36m0\u001b[0m\u001b[1;33m]\u001b[0m\u001b[1;33m)\u001b[0m\u001b[1;33m\u001b[0m\u001b[1;33m\u001b[0m\u001b[0m\n\u001b[0m\u001b[0;32m      2\u001b[0m \u001b[0mprediction_ar\u001b[0m \u001b[1;33m=\u001b[0m \u001b[0mresult_ar\u001b[0m\u001b[1;33m.\u001b[0m\u001b[0mpredict\u001b[0m\u001b[1;33m(\u001b[0m\u001b[0mtrain_len\u001b[0m\u001b[1;33m,\u001b[0m \u001b[0mts\u001b[0m\u001b[1;33m.\u001b[0m\u001b[0mshape\u001b[0m\u001b[1;33m[\u001b[0m\u001b[1;36m0\u001b[0m\u001b[1;33m]\u001b[0m\u001b[1;33m)\u001b[0m\u001b[1;33m\u001b[0m\u001b[1;33m\u001b[0m\u001b[0m\n\u001b[0;32m      3\u001b[0m \u001b[0mprediction_arma\u001b[0m \u001b[1;33m=\u001b[0m \u001b[0mresult_arma\u001b[0m\u001b[1;33m.\u001b[0m\u001b[0mpredict\u001b[0m\u001b[1;33m(\u001b[0m\u001b[0mtrain_len\u001b[0m\u001b[1;33m,\u001b[0m \u001b[0mts\u001b[0m\u001b[1;33m.\u001b[0m\u001b[0mshape\u001b[0m\u001b[1;33m[\u001b[0m\u001b[1;36m0\u001b[0m\u001b[1;33m]\u001b[0m\u001b[1;33m)\u001b[0m\u001b[1;33m\u001b[0m\u001b[1;33m\u001b[0m\u001b[0m\n",
      "\u001b[1;31mNameError\u001b[0m: name 'result_ar' is not defined"
     ]
    }
   ],
   "source": [
    "prediction_ma = model_ma.predict(train_len, ts.shape[0])\n",
    "prediction_ar = result_ar.predict(train_len, ts.shape[0])\n",
    "prediction_arma = result_arma.predict(train_len, ts.shape[0])"
   ]
  }
 ],
 "metadata": {
  "kernelspec": {
   "display_name": "Python 3",
   "language": "python",
   "name": "python3"
  },
  "language_info": {
   "codemirror_mode": {
    "name": "ipython",
    "version": 3
   },
   "file_extension": ".py",
   "mimetype": "text/x-python",
   "name": "python",
   "nbconvert_exporter": "python",
   "pygments_lexer": "ipython3",
   "version": "3.7.1"
  }
 },
 "nbformat": 4,
 "nbformat_minor": 4
}
