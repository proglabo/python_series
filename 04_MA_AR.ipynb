{
 "cells": [
  {
   "cell_type": "markdown",
   "metadata": {},
   "source": [
    "# MAモデル\n",
    "\n",
    "移動平均モデルと呼ばれ、「将来のYは過去の誤差によって説明される」という考え方に基づいたアルゴリズムである。\n",
    "\n",
    "言い換えると、「将来の予測値は、過去の予測値と実績値との誤差により決まる」であるが、\n",
    "\n",
    "例えば、今月の売上量が、本来売上げる量より多かったら、来月は売上量が減る\n",
    "\n",
    "次数：q"
   ]
  },
  {
   "cell_type": "markdown",
   "metadata": {},
   "source": [
    "# ARモデル\n",
    "\n",
    "自己回帰モデルと呼ばれ、「将来のYは、過去のYによって説明される」という考え方に基づいたアルゴリズムである。\n",
    "\n",
    "言い換えると、「将来の予測値は、過去の予測値により決まる」であるが、\n",
    "\n",
    "例えば、今月の売上量が多かったら、来月は売上量が増える\n",
    "\n",
    "次数：p"
   ]
  },
  {
   "cell_type": "markdown",
   "metadata": {},
   "source": [
    "# ARMA\n",
    "\n",
    "自己回帰移動平均モデルと呼ばれ、MAモデルとARモデルを組み合わせたモデルである。\n",
    "\n",
    "次数：p\n",
    "次数：q"
   ]
  },
  {
   "cell_type": "markdown",
   "metadata": {},
   "source": [
    "## データの読み込み\n",
    "\n",
    "今回使用するデータは、気温の時系列データです。\n",
    "\n",
    "データ配布元：http://www.data.jma.go.jp/gmd/risk/obsdl/index.php"
   ]
  },
  {
   "cell_type": "code",
   "execution_count": 6,
   "metadata": {},
   "outputs": [],
   "source": [
    "import pandas as pd\n",
    "weather_df = pd.read_csv(\"./data/weather.csv\", index_col='年月日', encoding=\"shift-jis\")"
   ]
  },
  {
   "cell_type": "markdown",
   "metadata": {},
   "source": [
    "## モデル作成\n",
    "\n",
    "MA/AR/ARMAモデルをそれぞれ作成する"
   ]
  },
  {
   "cell_type": "code",
   "execution_count": 30,
   "metadata": {},
   "outputs": [
    {
     "name": "stderr",
     "output_type": "stream",
     "text": [
      "c:\\users\\mio\\appdata\\local\\programs\\python\\python36\\lib\\site-packages\\statsmodels\\tsa\\base\\tsa_model.py:162: ValueWarning: No frequency information was provided, so inferred frequency D will be used.\n",
      "  % freq, ValueWarning)\n",
      "c:\\users\\mio\\appdata\\local\\programs\\python\\python36\\lib\\site-packages\\statsmodels\\tsa\\base\\tsa_model.py:162: ValueWarning: No frequency information was provided, so inferred frequency D will be used.\n",
      "  % freq, ValueWarning)\n",
      "c:\\users\\mio\\appdata\\local\\programs\\python\\python36\\lib\\site-packages\\statsmodels\\tsa\\base\\tsa_model.py:162: ValueWarning: No frequency information was provided, so inferred frequency D will be used.\n",
      "  % freq, ValueWarning)\n"
     ]
    }
   ],
   "source": [
    "from statsmodels.tsa.arima_model import ARMA\n",
    "model_ma = ARMA(weather_df['平均気温(℃)'], order=[0, 1])\n",
    "model_ar = ARMA(weather_df['平均気温(℃)'], order=[1, 0])\n",
    "model_arma = ARMA(weather_df['平均気温(℃)'], order=[1, 1])"
   ]
  },
  {
   "cell_type": "markdown",
   "metadata": {},
   "source": [
    "## モデルの学習"
   ]
  },
  {
   "cell_type": "code",
   "execution_count": 31,
   "metadata": {},
   "outputs": [
    {
     "data": {
      "text/plain": [
       "<statsmodels.tsa.arima_model.ARMAResultsWrapper at 0x1ddf2317d68>"
      ]
     },
     "execution_count": 31,
     "metadata": {},
     "output_type": "execute_result"
    }
   ],
   "source": [
    "model_ma.fit()\n",
    "model_ar.fit()\n",
    "model_arma.fit()"
   ]
  },
  {
   "cell_type": "markdown",
   "metadata": {},
   "source": [
    "# 予測値の算出"
   ]
  },
  {
   "cell_type": "code",
   "execution_count": 32,
   "metadata": {},
   "outputs": [
    {
     "data": {
      "text/plain": [
       "array([3.7       , 3.7       , 3.33565837, ..., 4.67973892, 4.44824484,\n",
       "       5.08953895])"
      ]
     },
     "execution_count": 32,
     "metadata": {},
     "output_type": "execute_result"
    }
   ],
   "source": [
    "model_ma.predict(weather_df['平均気温(℃)'])"
   ]
  },
  {
   "cell_type": "code",
   "execution_count": null,
   "metadata": {},
   "outputs": [],
   "source": [
    "prediction_ma = result_ar.predict(train_len, ts.shape[0])\n",
    "prediction_ar = result_ar.predict(train_len, ts.shape[0])\n",
    "prediction_arma = result_arma.predict(train_len, ts.shape[0])"
   ]
  }
 ],
 "metadata": {
  "kernelspec": {
   "display_name": "Python 3",
   "language": "python",
   "name": "python3"
  },
  "language_info": {
   "codemirror_mode": {
    "name": "ipython",
    "version": 3
   },
   "file_extension": ".py",
   "mimetype": "text/x-python",
   "name": "python",
   "nbconvert_exporter": "python",
   "pygments_lexer": "ipython3",
   "version": "3.6.8"
  }
 },
 "nbformat": 4,
 "nbformat_minor": 4
}
